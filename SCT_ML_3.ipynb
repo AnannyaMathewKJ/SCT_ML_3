{
  "nbformat": 4,
  "nbformat_minor": 0,
  "metadata": {
    "colab": {
      "provenance": [],
      "authorship_tag": "ABX9TyOb/cBk/OFnoFsGSiZdJ9Y6",
      "include_colab_link": true
    },
    "kernelspec": {
      "name": "python3",
      "display_name": "Python 3"
    },
    "language_info": {
      "name": "python"
    }
  },
  "cells": [
    {
      "cell_type": "markdown",
      "metadata": {
        "id": "view-in-github",
        "colab_type": "text"
      },
      "source": [
        "<a href=\"https://colab.research.google.com/github/AnannyaMathewKJ/SCT_ML_3/blob/main/SCT_ML_3.ipynb\" target=\"_parent\"><img src=\"https://colab.research.google.com/assets/colab-badge.svg\" alt=\"Open In Colab\"/></a>"
      ]
    },
    {
      "cell_type": "code",
      "execution_count": null,
      "metadata": {
        "colab": {
          "base_uri": "https://localhost:8080/"
        },
        "id": "uZQyCaf8-Gtv",
        "outputId": "cd81680f-095a-4a08-90ea-c167533c5df8"
      },
      "outputs": [
        {
          "output_type": "stream",
          "name": "stdout",
          "text": [
            "Path to dataset files: /kaggle/input/microsoft-catsvsdogs-dataset\n"
          ]
        }
      ],
      "source": [
        "import kagglehub\n",
        "\n",
        "# Download latest version\n",
        "path = kagglehub.dataset_download(\"shaunthesheep/microsoft-catsvsdogs-dataset\")\n",
        "\n",
        "print(\"Path to dataset files:\", path)"
      ]
    },
    {
      "cell_type": "code",
      "source": [
        "import os\n",
        "os.listdir(\"/kaggle/input/microsoft-catsvsdogs-dataset\")"
      ],
      "metadata": {
        "colab": {
          "base_uri": "https://localhost:8080/"
        },
        "id": "AMm5Ja6B_TIL",
        "outputId": "50b3f1a7-ed67-46e2-c05a-1728f2c65c6c"
      },
      "execution_count": null,
      "outputs": [
        {
          "output_type": "execute_result",
          "data": {
            "text/plain": [
              "['PetImages', 'readme[1].txt', 'MSR-LA - 3467.docx']"
            ]
          },
          "metadata": {},
          "execution_count": 7
        }
      ]
    },
    {
      "cell_type": "code",
      "source": [
        "DATA_DIR=\"/kaggle/input/microsoft-catsvsdogs-dataset/PetImages\""
      ],
      "metadata": {
        "id": "nht7I_yR_bV3"
      },
      "execution_count": null,
      "outputs": []
    },
    {
      "cell_type": "code",
      "source": [
        "cat_path = os.path.join(DATA_DIR,\"Cat\")\n",
        "dog_path = os.path.join(DATA_DIR,\"Dog\")"
      ],
      "metadata": {
        "id": "bjUKH_1VCGBT"
      },
      "execution_count": null,
      "outputs": []
    },
    {
      "cell_type": "code",
      "source": [
        "import numpy as np\n",
        "import cv2\n",
        "def load_data(DATA_DIR,limit_per_class=1000):\n",
        "  x=[]\n",
        "  y=[]\n",
        "  for lable,category in enumerate(['Cat','Dog']):\n",
        "    folder=os.path.join(DATA_DIR,category)\n",
        "    count = 0\n",
        "    for img in os.listdir(folder):\n",
        "      if count >= limit_per_class:\n",
        "        break\n",
        "      try:\n",
        "        img_path=os.path.join(folder,img)\n",
        "        img=cv2.imread(img_path)\n",
        "        img=cv2.resize(img,(64,64))\n",
        "        img=cv2.cvtColor(img,cv2.COLOR_BGR2GRAY)\n",
        "        x.append(img.flatten())\n",
        "        y.append(lable)\n",
        "        count += 1\n",
        "      except:\n",
        "        continue\n",
        "  return np.array(x),np.array(y)\n",
        "x, y = load_data(DATA_DIR, limit_per_class=1000)"
      ],
      "metadata": {
        "id": "w-JcFo8mGflI"
      },
      "execution_count": null,
      "outputs": []
    },
    {
      "cell_type": "code",
      "source": [
        "from sklearn.model_selection import train_test_split\n",
        "from sklearn.svm import SVC\n",
        "from sklearn.metrics import classification_report, accuracy_score\n",
        "import matplotlib.pyplot as plt\n",
        "x_train, x_test, y_train, y_test = train_test_split(x, y, test_size=0.2, random_state=42)\n",
        "svm_model = SVC(kernel='linear')\n",
        "svm_model.fit(x_train, y_train)\n",
        "\n",
        "y_pred = svm_model.predict(x_test)\n",
        "\n",
        "print(\"Accuracy:\", accuracy_score(y_test, y_pred))\n",
        "print(classification_report(y_test, y_pred, target_names=[\"Cat\", \"Dog\"]))"
      ],
      "metadata": {
        "colab": {
          "base_uri": "https://localhost:8080/"
        },
        "id": "7lPePyh0MDbk",
        "outputId": "4f6fa2b5-a375-4fb5-df6e-586b0ec95c50"
      },
      "execution_count": null,
      "outputs": [
        {
          "output_type": "stream",
          "name": "stdout",
          "text": [
            "Accuracy: 0.505\n",
            "              precision    recall  f1-score   support\n",
            "\n",
            "         Cat       0.50      0.54      0.52       199\n",
            "         Dog       0.51      0.47      0.49       201\n",
            "\n",
            "    accuracy                           0.51       400\n",
            "   macro avg       0.51      0.51      0.50       400\n",
            "weighted avg       0.51      0.51      0.50       400\n",
            "\n"
          ]
        }
      ]
    },
    {
      "cell_type": "code",
      "source": [
        "from sklearn.metrics import confusion_matrix, ConfusionMatrixDisplay\n",
        "from matplotlib import pyplot as plt\n",
        "cm = confusion_matrix(y_test, y_pred)\n",
        "disp = ConfusionMatrixDisplay(confusion_matrix=cm, display_labels=[\"Cat\", \"Dog\"])\n",
        "disp.plot(cmap='Blues')\n",
        "plt.title(\"Confusion Matrix\")\n",
        "plt.show()"
      ],
      "metadata": {
        "id": "4QTQmP1vNU3c",
        "colab": {
          "base_uri": "https://localhost:8080/",
          "height": 472
        },
        "outputId": "73ca7eeb-fa4e-4374-dc8e-c1bc4e94cfef"
      },
      "execution_count": null,
      "outputs": [
        {
          "output_type": "display_data",
          "data": {
            "text/plain": [
              "<Figure size 640x480 with 2 Axes>"
            ],
            "image/png": "[encoded data removed]"
          },
          "metadata": {}
        }
      ]
    },
    {
      "cell_type": "code",
      "source": [],
      "metadata": {
        "id": "nrFINO0aLWEF"
      },
      "execution_count": null,
      "outputs": []
    }
  ]
}